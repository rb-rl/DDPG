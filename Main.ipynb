{
 "cells": [
  {
   "cell_type": "markdown",
   "metadata": {},
   "source": [
    "# Robotic Arm Controlling Reinforcement Learning Agent in 3D-Environment"
   ]
  },
  {
   "cell_type": "markdown",
   "metadata": {},
   "source": [
    "The following notebook provides a reinforcement learning agent which is trained to control a robotic arm in an episodic Unity 3D-environment. There is a transparent sphere moving around in the environment which marks the goal location. The agent is trained to move the hand of the robotic arm at this location."
   ]
  },
  {
   "cell_type": "markdown",
   "metadata": {},
   "source": [
    "### 1. Setup\n",
    "\n",
    "We begin by importing the Python packages required for the project.\n",
    "\n",
    "Next, we create the 3D-environment containing the robotic arm. This environment is based on the Unity engine and is provided by Udacity. The environment contains a brain, which is controlled by the reinforcement learning agent used further below."
   ]
  },
  {
   "cell_type": "code",
   "execution_count": 1,
   "metadata": {},
   "outputs": [
    {
     "name": "stderr",
     "output_type": "stream",
     "text": [
      "INFO:unityagents:\n",
      "'Academy' started successfully!\n",
      "Unity Academy name: Academy\n",
      "        Number of Brains: 1\n",
      "        Number of External Brains : 1\n",
      "        Lesson number : 0\n",
      "        Reset Parameters :\n",
      "\t\tgoal_speed -> 1.0\n",
      "\t\tgoal_size -> 5.0\n",
      "Unity brain name: ReacherBrain\n",
      "        Number of Visual Observations (per agent): 0\n",
      "        Vector Observation space type: continuous\n",
      "        Vector Observation space size (per agent): 33\n",
      "        Number of stacked Vector Observation: 1\n",
      "        Vector Action space type: continuous\n",
      "        Vector Action space size (per agent): 4\n",
      "        Vector Action descriptions: , , , \n"
     ]
    }
   ],
   "source": [
    "import keyboard\n",
    "\n",
    "import matplotlib.pyplot as plt\n",
    "import numpy as np\n",
    "\n",
    "from collections import deque\n",
    "from unityagents import UnityEnvironment\n",
    "\n",
    "environment = UnityEnvironment(\"Reacher_Windows_x86_64\\Reacher.exe\")\n",
    "\n",
    "brain_name = environment.brain_names[0]\n",
    "brain = environment.brains[brain_name]\n",
    "\n",
    "info = environment.reset(train_mode=True)[brain_name]\n",
    "\n",
    "number_sensors = len(info.vector_observations[0])\n",
    "number_motors = brain.vector_action_space_size"
   ]
  },
  {
   "cell_type": "markdown",
   "metadata": {},
   "source": [
    "### 2. Training\n",
    "\n",
    "Now, we come to the training of the reinforcement learning agent. When the next cell is executed, the Unity environment is shown as a small window and the training starts. The progress of the training is shown in form of a continuously updated log message. The training stops when either an averge score of 30 is reached or the user hits the Escape key. The average score is defined as the non-discounted return, i.e. cumulative reward per episode, computed over the most recent 100 episodes. When the training is finished, a plot of the scores over the episodes is displayed and the neural network of the reinforcement learning agent is saved.\n",
    "\n",
    "If you have a GPU which requires at least CUDA 9.0, you might encounter a startup-phase taking several minutes for the next cell, because the PyTorch version 0.4.0 required for this project was compiled with CUDA 8.0. Newer versions of PyTorch were not considered here, because this project was created in the context of a Udacity nanodegree program, where the PyTorch version is fixed. So, if the execution freezes, please be patient for a few minutes.\n",
    "\n",
    "The next cell also contains a fast development mode. When the training has stopped, you can simple execute the cell another time and a new agent is trained with the most recent state of the Python packages coded for the agent, i.e. including any code changes taken since the last execution, without having to restart the Python kernel and the Unity environment. This development mode also addresses the slow startup-phase mentioned above.\n",
    "\n",
    "CODE DETAILS:\n",
    "\n",
    "The code in the cell first creates a new agent, which is provided in external Python scripts, and resets the environment. Then, it lets the agent determine an action in the current state. This action causes a change of the environment which is observed and provides a reward. The reward then allows a learning step of the agent. The steps starting with the action determination are then repeated until an episode is finished. Then, the environment is reset and the next episode starts. The training continues over multiple episodes until the stop criterion mentioned earlier is reached."
   ]
  },
  {
   "cell_type": "code",
   "execution_count": 3,
   "metadata": {
    "scrolled": false
   },
   "outputs": [
    {
     "name": "stdout",
     "output_type": "stream",
     "text": [
      "Fast development reload: network\n",
      "Fast development reload: memory\n",
      "Fast development reload: agent\n",
      "Used device: cpu\n",
      "\n",
      "Policy Network - Actor(\n",
      "  (__linear_0): Linear(in_features=33, out_features=64, bias=True)\n",
      "  (__linear_1): Linear(in_features=64, out_features=64, bias=True)\n",
      "  (__linear_2): Linear(in_features=64, out_features=64, bias=True)\n",
      "  (__linear_3): Linear(in_features=64, out_features=4, bias=True)\n",
      ")\n",
      "\n",
      "Target Policy Network - Target Actor(\n",
      "  (__linear_0): Linear(in_features=33, out_features=64, bias=True)\n",
      "  (__linear_1): Linear(in_features=64, out_features=64, bias=True)\n",
      "  (__linear_2): Linear(in_features=64, out_features=64, bias=True)\n",
      "  (__linear_3): Linear(in_features=64, out_features=4, bias=True)\n",
      ")\n",
      "\n",
      "Q Network - Critic(\n",
      "  (__linear_0): Linear(in_features=37, out_features=64, bias=True)\n",
      "  (__linear_1): Linear(in_features=64, out_features=64, bias=True)\n",
      "  (__linear_2): Linear(in_features=64, out_features=64, bias=True)\n",
      "  (__linear_3): Linear(in_features=64, out_features=1, bias=True)\n",
      ")\n",
      "\n",
      "Target Q Network - Target Critic(\n",
      "  (__linear_0): Linear(in_features=37, out_features=64, bias=True)\n",
      "  (__linear_1): Linear(in_features=64, out_features=64, bias=True)\n",
      "  (__linear_2): Linear(in_features=64, out_features=64, bias=True)\n",
      "  (__linear_3): Linear(in_features=64, out_features=1, bias=True)\n",
      ")\n",
      "\n",
      "Episode = 242, Epsilon = 0.2, Losses = (-1.3, 0.0017), Score = 29, Average score = 30.1                   \n",
      "Agent saved in (agent_actor.pt, agent_critic.pt)\n"
     ]
    },
    {
     "data": {
      "image/png": "[encoded data removed]",
      "text/plain": [
       "<Figure size 432x288 with 1 Axes>"
      ]
     },
     "metadata": {
      "needs_background": "light"
     },
     "output_type": "display_data"
    }
   ],
   "source": [
    "# The nubmer of episodes used to compute the average score.\n",
    "NUMBER_AVERAGED_EPISODES = 100\n",
    "\n",
    "# The average score where the training stops.\n",
    "MAX_AVERAGE_SCORE = 30\n",
    "\n",
    "import agent\n",
    "\n",
    "if agent.network.FAST_DEVELOPMENT_MODE:\n",
    "    import importlib\n",
    "\n",
    "    importlib.reload(agent)\n",
    "    print(\"Fast development reload: agent\")\n",
    "\n",
    "from agent import Agent\n",
    "\n",
    "agent = Agent(number_sensors, number_motors)\n",
    "\n",
    "all_scores = []\n",
    "last_scores = deque(maxlen=NUMBER_AVERAGED_EPISODES)\n",
    "\n",
    "episode = 0\n",
    "average_score = 0\n",
    "\n",
    "reset = True\n",
    "while True:\n",
    "    if reset:\n",
    "        info = environment.reset(train_mode=True)[brain_name]\n",
    "        state = info.vector_observations[0]\n",
    "        score = 0\n",
    "        reset = False\n",
    "\n",
    "    action = agent(state)\n",
    "    info = environment.step(action)[brain_name]\n",
    "    next_state = info.vector_observations[0]\n",
    "    reward = info.rewards[0]\n",
    "    done = info.local_done[0]\n",
    "\n",
    "    epsilon, losses = agent.learn(state, action, reward, next_state, done)\n",
    "\n",
    "    score += reward\n",
    "    state = next_state\n",
    "\n",
    "    if done:\n",
    "        episode += 1\n",
    "\n",
    "        all_scores.append(score)\n",
    "        last_scores.append(score)\n",
    "\n",
    "        average_score = np.mean(last_scores)\n",
    "\n",
    "        reset = True\n",
    "\n",
    "    log = f\"\\rEpisode = {episode}, Epsilon = {epsilon:.2g}, Losses = ({losses[0]:.2g}, {losses[1]:.2g}), \" \\\n",
    "          f\"Score = {score:.3g}, Average score = {average_score:.3g}\" + 15 * \" \"\n",
    "    print(log, end=\"\", flush=True)\n",
    "\n",
    "    if keyboard.is_pressed(\"esc\") or average_score >= MAX_AVERAGE_SCORE:\n",
    "        print()\n",
    "        break\n",
    "\n",
    "agent.save(\"agent\")\n",
    "\n",
    "plt.plot(all_scores)\n",
    "plt.xlabel(\"Episode\")\n",
    "plt.ylabel(\"Score\")\n",
    "plt.show()"
   ]
  },
  {
   "cell_type": "markdown",
   "metadata": {},
   "source": [
    "### 3. Inference\n",
    "\n",
    "Execute the next cell to let the saved reinforcement learning to be used in inference mode. This mode also provides a larger window for the Unity environment than in training mode. The inference ends when a single episode is done or the user hits the Escape key."
   ]
  },
  {
   "cell_type": "code",
   "execution_count": 4,
   "metadata": {
    "scrolled": false
   },
   "outputs": [
    {
     "name": "stdout",
     "output_type": "stream",
     "text": [
      "Fast development reload: network\n",
      "Fast development reload: memory\n",
      "Fast development reload: agent\n",
      "Used device: cpu\n",
      "\n",
      "Policy Network - Actor(\n",
      "  (__linear_0): Linear(in_features=33, out_features=64, bias=True)\n",
      "  (__linear_1): Linear(in_features=64, out_features=64, bias=True)\n",
      "  (__linear_2): Linear(in_features=64, out_features=64, bias=True)\n",
      "  (__linear_3): Linear(in_features=64, out_features=4, bias=True)\n",
      ")\n",
      "\n",
      "Target Policy Network - Target Actor(\n",
      "  (__linear_0): Linear(in_features=33, out_features=64, bias=True)\n",
      "  (__linear_1): Linear(in_features=64, out_features=64, bias=True)\n",
      "  (__linear_2): Linear(in_features=64, out_features=64, bias=True)\n",
      "  (__linear_3): Linear(in_features=64, out_features=4, bias=True)\n",
      ")\n",
      "\n",
      "Q Network - Critic(\n",
      "  (__linear_0): Linear(in_features=37, out_features=64, bias=True)\n",
      "  (__linear_1): Linear(in_features=64, out_features=64, bias=True)\n",
      "  (__linear_2): Linear(in_features=64, out_features=64, bias=True)\n",
      "  (__linear_3): Linear(in_features=64, out_features=1, bias=True)\n",
      ")\n",
      "\n",
      "Target Q Network - Target Critic(\n",
      "  (__linear_0): Linear(in_features=37, out_features=64, bias=True)\n",
      "  (__linear_1): Linear(in_features=64, out_features=64, bias=True)\n",
      "  (__linear_2): Linear(in_features=64, out_features=64, bias=True)\n",
      "  (__linear_3): Linear(in_features=64, out_features=1, bias=True)\n",
      ")\n",
      "\n",
      "Agent loaded from (agent_actor.pt, agent_critic.pt)\n",
      "Score = 34.369999231770635\n"
     ]
    }
   ],
   "source": [
    "import agent\n",
    "\n",
    "if agent.network.FAST_DEVELOPMENT_MODE:\n",
    "    import importlib\n",
    "\n",
    "    importlib.reload(agent)\n",
    "    print(\"Fast development reload: agent\")\n",
    "    \n",
    "from agent import Agent\n",
    "\n",
    "agent = Agent(number_sensors, number_motors)\n",
    "\n",
    "agent.load(\"agent\")\n",
    "\n",
    "info = environment.reset(train_mode=False)[brain_name]\n",
    "\n",
    "score = 0\n",
    "\n",
    "while True:\n",
    "    state = info.vector_observations[0]\n",
    "    action = agent(state)\n",
    "    info = environment.step(action)[brain_name]\n",
    "    done = info.local_done[0]\n",
    "    \n",
    "    score += info.rewards[0]\n",
    "\n",
    "    if keyboard.is_pressed(\"esc\") or done:\n",
    "        break\n",
    "        \n",
    "print(\"Score =\", score)"
   ]
  },
  {
   "cell_type": "markdown",
   "metadata": {},
   "source": [
    "### 4. Teardown\n",
    "\n",
    "When you are done with training and inference, you can close the Unity environment with the following cell."
   ]
  },
  {
   "cell_type": "code",
   "execution_count": 5,
   "metadata": {},
   "outputs": [],
   "source": [
    "environment.close()"
   ]
  },
  {
   "cell_type": "markdown",
   "metadata": {},
   "source": [
    " "
   ]
  }
 ],
 "metadata": {
  "kernelspec": {
   "display_name": "drlnd",
   "language": "python",
   "name": "drlnd"
  },
  "language_info": {
   "codemirror_mode": {
    "name": "ipython",
    "version": 3
   },
   "file_extension": ".py",
   "mimetype": "text/x-python",
   "name": "python",
   "nbconvert_exporter": "python",
   "pygments_lexer": "ipython3",
   "version": "3.6.13"
  }
 },
 "nbformat": 4,
 "nbformat_minor": 2
}
